{
  "nbformat": 4,
  "nbformat_minor": 0,
  "metadata": {
    "colab": {
      "provenance": [],
      "authorship_tag": "ABX9TyPTpz/2casT7uCdg2jflLXJ",
      "include_colab_link": true
    },
    "kernelspec": {
      "name": "python3",
      "display_name": "Python 3"
    },
    "language_info": {
      "name": "python"
    }
  },
  "cells": [
    {
      "cell_type": "markdown",
      "metadata": {
        "id": "view-in-github",
        "colab_type": "text"
      },
      "source": [
        "<a href=\"https://colab.research.google.com/github/nikhilmishra1710/DIP/blob/main/histogram_equalisation/histogram_equalisation.ipynb\" target=\"_parent\"><img src=\"https://colab.research.google.com/assets/colab-badge.svg\" alt=\"Open In Colab\"/></a>"
      ]
    },
    {
      "cell_type": "code",
      "source": [
        "import cv2\n",
        "import numpy as np\n",
        "import matplotlib.pyplot as plt"
      ],
      "metadata": {
        "id": "mFTPg-CAUoiR"
      },
      "execution_count": 14,
      "outputs": []
    },
    {
      "cell_type": "code",
      "execution_count": 15,
      "metadata": {
        "id": "EpbW-97bSCGy"
      },
      "outputs": [],
      "source": [
        "def load_image(path):\n",
        "  img = cv2.imread(path)\n",
        "  image_rgb = cv2.cvtColor(img, cv2.COLOR_BGR2RGB)\n",
        "  initial_matrix_rgb=np.array(image_rgb)\n",
        "\n",
        "  plt.imshow(initial_matrix_rgb)\n",
        "  plt.show()\n",
        "\n",
        "  dimensions = img.shape\n",
        "  print(dimensions)\n",
        "\n",
        "  print('Height of Image:', dimensions[0])\n",
        "  print('Width of Image:', dimensions[1])\n",
        "  print('Number of Channels:', dimensions[2])\n",
        "\n",
        "  return initial_matrix_rgb\n"
      ]
    },
    {
      "cell_type": "code",
      "source": [
        "def convert_to_grayscale(initial_matrix_rgb):\n",
        "  row = initial_matrix_rgb.shape[0]\n",
        "  col = initial_matrix_rgb.shape[1]\n",
        "  print(row,col)\n",
        "  initial_matrix_gray = np.zeros((row,col),dtype=\"int\")\n",
        "\n",
        "  for i in range(row):\n",
        "    for j in range(col):\n",
        "      initial_matrix_gray[i,j]=int(round((initial_matrix_rgb[i,j,0]+initial_matrix_rgb[i,j,1]+initial_matrix_rgb[i,j,2])/3))\n",
        "\n",
        "  plt.imshow(initial_matrix_gray,cmap=\"gray\")\n",
        "  plt.show()\n",
        "\n",
        "  return initial_matrix_gray"
      ],
      "metadata": {
        "id": "F8TLRxymXqjk"
      },
      "execution_count": 16,
      "outputs": []
    },
    {
      "cell_type": "code",
      "source": [
        "def calculate_cdf(initial_matrix_gray):\n",
        "    values = np.unique(initial_matrix_gray)\n",
        "    print(\"Unique pixel values:\", values)\n",
        "\n",
        "    frequency = {}\n",
        "    for value in values:\n",
        "        frequency[value] = np.count_nonzero(initial_matrix_gray == value)\n",
        "\n",
        "    print(\"Frequency of pixel values:\", frequency)\n",
        "\n",
        "    cdf = {}\n",
        "    cdf[values[0]] = frequency[values[0]]\n",
        "\n",
        "    for i in range(1, len(values)):\n",
        "        cdf[values[i]] = cdf[values[i - 1]] + frequency[values[i]]\n",
        "\n",
        "    print(\"Cumulative Distribution Function (CDF):\", cdf)\n",
        "    display_histogram(values,frequency.values(),'Original Image Histogram')\n",
        "    display_cdf_curve(values,cdf.values(),'Original Image CDF')\n",
        "    return cdf, values, frequency"
      ],
      "metadata": {
        "id": "P3TwCSctXeGB"
      },
      "execution_count": 17,
      "outputs": []
    },
    {
      "cell_type": "code",
      "source": [
        "def display_histogram(values,frequency,title):\n",
        "  plt.bar(values, frequency, width=1, color='gray', edgecolor='black',label=\"Pixel frequency\")\n",
        "  plt.title(title)\n",
        "  plt.xlabel('Pixel Value')\n",
        "  plt.ylabel('Frequency')\n",
        "  plt.xlim([0, 255])\n",
        "  plt.xticks(np.arange(0, 256, 16))\n",
        "  plt.grid(axis='y')\n",
        "  plt.show()\n",
        "\n",
        "def display_cdf_curve(values,cumulative_frequency,title):\n",
        "  plt.plot(values, cumulative_frequency, color='blue', label='CDF')\n",
        "  plt.title(title)\n",
        "  plt.xlabel('Pixel Value')\n",
        "  plt.ylabel('Cumulative Frequency')\n",
        "  plt.xlim([0, 255])\n",
        "  plt.xticks(np.arange(0, 256, 16))\n",
        "  plt.grid(axis='y')\n",
        "  plt.show()"
      ],
      "metadata": {
        "id": "N87y7OOstML8"
      },
      "execution_count": 18,
      "outputs": []
    },
    {
      "cell_type": "code",
      "source": [
        "def calculate_h(v,cdf,m,n,L=256):\n",
        "    min_cdf = min(cdf.values())\n",
        "    return round((L-1)*(cdf[v]-min_cdf)/((m*n)-min_cdf))"
      ],
      "metadata": {
        "id": "YkuMBnjpoGpD"
      },
      "execution_count": 19,
      "outputs": []
    },
    {
      "cell_type": "code",
      "source": [
        "def equalize_matrix(initial_matrix_gray,cdf,values,frequency):\n",
        "  h={}\n",
        "  row = initial_matrix_gray.shape[0]\n",
        "  col = initial_matrix_gray.shape[1]\n",
        "  for value in values:\n",
        "      h[value]=calculate_h(value,cdf,row,col)\n",
        "\n",
        "  equalized_matrix_gray = np.zeros_like(initial_matrix_gray)\n",
        "\n",
        "  for key, value in h.items():\n",
        "      equalized_matrix_gray[initial_matrix_gray == key] = value\n",
        "\n",
        "  print(\"Equalisied Cumulative Distribution Function (CDF):\", h)\n",
        "  display_histogram(h.values(),frequency.values(),'Equalized Image Histogram')\n",
        "  display_cdf_curve(h.values(),h.values(),'Equalized Image CDF')\n",
        "  plt.imshow(equalized_matrix_gray,cmap=\"gray\")\n",
        "  plt.show()\n",
        "\n",
        "  return equalized_matrix_gray"
      ],
      "metadata": {
        "id": "GvpVWGILhnQa"
      },
      "execution_count": 20,
      "outputs": []
    },
    {
      "cell_type": "code",
      "source": [
        "def histogram_equalization(path,new_file_name):\n",
        "  initial_matrix_rgb=load_image(path)\n",
        "  initial_matrix_gray=convert_to_grayscale(initial_matrix_rgb)\n",
        "  cdf,values,frequency=calculate_cdf(initial_matrix_gray)\n",
        "  equalized_img = equalize_matrix(initial_matrix_gray,cdf,values,frequency)\n",
        "  cv2.imwrite(new_file_name, equalized_img)\n",
        "  return equalized_img\n",
        "\n"
      ],
      "metadata": {
        "id": "-mgLsTSml6F7"
      },
      "execution_count": 21,
      "outputs": []
    },
    {
      "cell_type": "code",
      "source": [
        "initial_image_matrix = np.array([[52,\t55,\t61,\t59,\t79,\t61,\t76,\t61],\n",
        "[62,\t59,\t55,\t104, 94\t,85\t,59\t,71],\n",
        "[63,\t65,\t66,\t113, 144,104,\t63,\t72],\n",
        "[64,\t70,\t70,\t126, 154,109,\t71,\t69],\n",
        "[67,\t73,\t68,\t106, 122,88\t,68\t,68],\n",
        "[68,\t79,\t60,\t70, 77\t,66\t,58\t,75],\n",
        "[69,\t85,\t64,\t58, 55\t,61\t,65\t,83],\n",
        "[70,\t87,\t69,\t68, 65\t,73\t,78\t,90]\n",
        "])\n",
        "plt.imshow(initial_image_matrix,cmap=\"gray\")\n",
        "plt.show()\n",
        "cv2.imwrite(\"/content/image.png\", initial_image_matrix)\n",
        "cdf,values,frequency=calculate_cdf(initial_image_matrix)\n",
        "equalized_img = equalize_matrix(initial_image_matrix,cdf,values,frequency)\n",
        "cv2.imwrite(\"/content/equalized_image4.png\", equalized_img)\n"
      ],
      "metadata": {
        "id": "NdFmG9lxs0Sy"
      },
      "execution_count": null,
      "outputs": []
    },
    {
      "cell_type": "code",
      "source": [
        "final_img=histogram_equalization('/content/image.png','/content/equalized_image.png')"
      ],
      "metadata": {
        "collapsed": true,
        "id": "b6wvKTwVpJq7"
      },
      "execution_count": null,
      "outputs": []
    },
    {
      "cell_type": "code",
      "source": [
        "final_img = histogram_equalization('/content/lena.png','/content/equalized_image_lena.png')"
      ],
      "metadata": {
        "id": "_4J7ZkZQmhMD"
      },
      "execution_count": null,
      "outputs": []
    },
    {
      "cell_type": "code",
      "source": [
        "final_img = histogram_equalization('/content/image3.jpg','/content/equalized_image3.png')"
      ],
      "metadata": {
        "id": "lBYgRHXxpPQb"
      },
      "execution_count": null,
      "outputs": []
    },
    {
      "cell_type": "code",
      "source": [],
      "metadata": {
        "id": "AOObB6tvJynO"
      },
      "execution_count": null,
      "outputs": []
    }
  ]
}